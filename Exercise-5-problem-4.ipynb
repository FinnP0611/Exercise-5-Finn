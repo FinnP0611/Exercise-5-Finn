{
 "cells": [
  {
   "cell_type": "markdown",
   "metadata": {
    "deletable": false,
    "editable": false,
    "nbgrader": {
     "cell_type": "markdown",
     "checksum": "3b662cdee17ba1b411a878ba73f12371",
     "grade": false,
     "grade_id": "cell-8f87d3f057af49f1",
     "locked": true,
     "schema_version": 3,
     "solution": false,
     "task": false
    }
   },
   "source": [
    "## Problem 4 (*optional*) - Parsing daily temperatures\n",
    "\n",
    "**This is an optional task for more advanced students who want more practice.**\n",
    "\n",
    "In this problem, the aim is to aggregate the hourly temperature data for Helsinki Kumpula and Rovaniemi weather stations to a daily level. Currently, there are 3 measurements per hour in the data.\n",
    "\n",
    "This problem is more challenging as we provide only minimal instructions for completing the given tasks.\n",
    "\n",
    "### What to do\n",
    "\n",
    "- Create a new DataFrame where you have calculated mean, max and min Celsius temperatures for each day separately using the hourly values from Rovaniemi and Helsinki Kumpula\n",
    "\n",
    "Don't forget to:\n",
    "\n",
    "- Include useful comments in your code\n",
    "- Push your solution to GitHub\n",
    "\n",
    "### Hint\n",
    "\n",
    "You can find help from the [Pandas Official documentation](https://pandas.pydata.org/pandas-docs/stable/) and Google. If you think you can handle this but don't know how to proceed, ask for tips in Slack!"
   ]
  },
  {
   "cell_type": "code",
   "execution_count": 8,
   "metadata": {
    "deletable": false,
    "nbgrader": {
     "cell_type": "code",
     "checksum": "bc2c0cbdbd05f494393e88f2ee59753e",
     "grade": true,
     "grade_id": "cell-978d5674f4fa37fc",
     "locked": false,
     "points": 0,
     "schema_version": 3,
     "solution": true,
     "task": false
    }
   },
   "outputs": [],
   "source": [
    "''' 3 stündliche Temperaturmessungen für jeden Tag in eine Tagestemperatur verrechnen.\n",
    "Einen neuen DataFrame erstellen der die mean, max und min für jeden Tag berrechnen und auflisten '''\n",
    "\n",
    "import pandas as pd\n",
    "\n",
    "\n",
    "kumpula = pd.read_csv('data/Kumpula_temps_May_Aug_2017.csv', sep=',')\n",
    "rovaniemi = pd.read_csv('data/Rovaniemi_temps_May_Aug_2017.csv', sep=',')"
   ]
  },
  {
   "cell_type": "code",
   "execution_count": 10,
   "metadata": {},
   "outputs": [
    {
     "name": "stdout",
     "output_type": "stream",
     "text": [
      "   Unnamed: 0   USAF  YR--MODAHRMN  TEMP  MAX  MIN  CELSIUS\n",
      "0        8770  29980  201705010000   2.0  NaN  NaN        2\n",
      "1        8771  29980  201705010100   2.0  NaN  NaN        2\n",
      "2        8772  29980  201705010200   2.0  NaN  NaN        2\n",
      "3        8773  29980  201705010300   2.0  NaN  NaN        2\n",
      "4        8774  29980  201705010400   2.0  NaN  NaN        3\n"
     ]
    }
   ],
   "source": [
    "print(kumpula.head())"
   ]
  },
  {
   "cell_type": "code",
   "execution_count": 13,
   "metadata": {},
   "outputs": [],
   "source": [
    "# DataFrames für den Monat Juni für beide\n",
    "\n",
    "kumpula_june = kumpula.loc[(kumpula['YR--MODAHRMN'] > 201705312399) & (kumpula['YR--MODAHRMN'] <= 201706302300)]\n",
    "rovaniemi_june = rovaniemi.loc[(rovaniemi['YR--MODAHRMN'] > 201705312399) & (rovaniemi['YR--MODAHRMN'] <= 201706302300)]"
   ]
  },
  {
   "cell_type": "code",
   "execution_count": 15,
   "metadata": {},
   "outputs": [
    {
     "name": "stdout",
     "output_type": "stream",
     "text": [
      "     Unnamed: 0   USAF  YR--MODAHRMN  TEMP  MAX  MIN  CELSIUS\n",
      "741        9511  29980  201706010000   2.0  NaN  NaN        5\n",
      "742        9512  29980  201706010100   2.0  NaN  NaN        4\n",
      "743        9513  29980  201706010200   2.0  NaN  NaN        4\n",
      "744        9514  29980  201706010300   2.0  NaN  NaN        5\n",
      "745        9515  29980  201706010400   2.0  NaN  NaN        6\n"
     ]
    }
   ],
   "source": [
    "print(kumpula_june.head())"
   ]
  },
  {
   "cell_type": "code",
   "execution_count": 17,
   "metadata": {},
   "outputs": [
    {
     "name": "stdout",
     "output_type": "stream",
     "text": [
      "      Unnamed: 0   USAF  YR--MODAHRMN  TEMP  MAX  MIN  CELSIUS\n",
      "741         9511  29980  201706010000   2.0  NaN  NaN        5\n",
      "742         9512  29980  201706010100   2.0  NaN  NaN        4\n",
      "743         9513  29980  201706010200   2.0  NaN  NaN        4\n",
      "744         9514  29980  201706010300   2.0  NaN  NaN        5\n",
      "745         9515  29980  201706010400   2.0  NaN  NaN        6\n",
      "...          ...    ...           ...   ...  ...  ...      ...\n",
      "1450       10220  29980  201706301900   2.0  NaN  NaN       18\n",
      "1451       10221  29980  201706302000   2.0  NaN  NaN       16\n",
      "1452       10222  29980  201706302100   2.0  NaN  NaN       17\n",
      "1453       10223  29980  201706302200   2.0  NaN  NaN       16\n",
      "1454       10224  29980  201706302300   2.0  NaN  NaN       16\n",
      "\n",
      "[714 rows x 7 columns]\n"
     ]
    }
   ],
   "source": [
    "print(kumpula_june)"
   ]
  },
  {
   "cell_type": "code",
   "execution_count": 35,
   "metadata": {},
   "outputs": [
    {
     "data": {
      "text/plain": [
       "numpy.int64"
      ]
     },
     "execution_count": 35,
     "metadata": {},
     "output_type": "execute_result"
    }
   ],
   "source": [
    "type(kumpula_june.iloc[0,6])"
   ]
  },
  {
   "cell_type": "code",
   "execution_count": 43,
   "metadata": {},
   "outputs": [
    {
     "ename": "TypeError",
     "evalue": "int() argument must be a string, a bytes-like object or a real number, not 'DataFrame'",
     "output_type": "error",
     "traceback": [
      "\u001b[0;31m---------------------------------------------------------------------------\u001b[0m",
      "\u001b[0;31mTypeError\u001b[0m                                 Traceback (most recent call last)",
      "Cell \u001b[0;32mIn[43], line 5\u001b[0m\n\u001b[1;32m      3\u001b[0m \u001b[38;5;28;01mfor\u001b[39;00m i \u001b[38;5;129;01min\u001b[39;00m \u001b[38;5;28mrange\u001b[39m(\u001b[38;5;241m23\u001b[39m):\n\u001b[1;32m      4\u001b[0m     total0601 \u001b[38;5;241m+\u001b[39m\u001b[38;5;241m=\u001b[39m kumpula_june\u001b[38;5;241m.\u001b[39miloc[i,\u001b[38;5;241m6\u001b[39m]\n\u001b[0;32m----> 5\u001b[0m     \u001b[38;5;28mprint\u001b[39m(\u001b[38;5;28mint\u001b[39m(kumpula_june\u001b[38;5;241m.\u001b[39miloc[i:\u001b[38;5;241m6\u001b[39m]))\n\u001b[1;32m      7\u001b[0m total0601 \u001b[38;5;241m/\u001b[39m \u001b[38;5;241m24\u001b[39m\n\u001b[1;32m      9\u001b[0m \u001b[38;5;28mprint\u001b[39m(total0601)\n",
      "\u001b[0;31mTypeError\u001b[0m: int() argument must be a string, a bytes-like object or a real number, not 'DataFrame'"
     ]
    }
   ],
   "source": [
    "total0601 = 0\n",
    "\n",
    "for i in range(23):\n",
    "    total0601 += kumpula_june.iloc[i,6]\n",
    "    print(int(kumpula_june.iloc[i:6]))\n",
    "    \n",
    "total0601 / 24\n",
    "\n",
    "print(total0601)"
   ]
  },
  {
   "cell_type": "code",
   "execution_count": null,
   "metadata": {},
   "outputs": [],
   "source": []
  }
 ],
 "metadata": {
  "anaconda-cloud": {},
  "kernelspec": {
   "display_name": "Python 3 (ipykernel)",
   "language": "python",
   "name": "python3"
  },
  "language_info": {
   "codemirror_mode": {
    "name": "ipython",
    "version": 3
   },
   "file_extension": ".py",
   "mimetype": "text/x-python",
   "name": "python",
   "nbconvert_exporter": "python",
   "pygments_lexer": "ipython3",
   "version": "3.12.4"
  }
 },
 "nbformat": 4,
 "nbformat_minor": 4
}
