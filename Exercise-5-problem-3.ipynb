{
 "cells": [
  {
   "cell_type": "markdown",
   "metadata": {
    "deletable": false,
    "editable": false,
    "nbgrader": {
     "cell_type": "markdown",
     "checksum": "861669d3aadf752ee237a135a2aca25e",
     "grade": false,
     "grade_id": "Intro_text",
     "locked": true,
     "schema_version": 3,
     "solution": false
    }
   },
   "source": [
    "## Problem 3 - Data analysis (*4 points*)\n",
    "\n",
    "In this problem we will explore our temperature data by comparing spring temperatures between Helsinki Kumpula and Rovaniemi. To do this we'll use some conditions to extract subsets of our data and then analyse these subsets using basic Pandas functions. Please perform the tasks below by writing your code into the codeblocks in each section.\n",
    "\n",
    "**Notice**: Closely follow the instructions! For example, you should be sure to use **exactly** the same variable names mentioned in the instructions because your answers will be automatically graded, and the tests that grade your answers rely on following the same formatting or variable naming as in the instructions.\n",
    "\n",
    "**Your score on this problem will be based on following criteria:**\n",
    "\n",
    "- Calculating the median temperatures for Helsinki Kumpula and Rovaniemi for the summer of 2017\n",
    "- Selecting temperatures for May and June 2017 in separate dataframes for each location\n",
    "- Printing out some summary values for each month (May, June) and location (Kumpula, Rovaniemi)\n",
    "- Including comments that explain what most lines in the code do\n",
    "- Answering a couple questions at the end of the problem\n",
    "- Uploading your notebook and data files to your GitHub repository for this week's exercise"
   ]
  },
  {
   "cell_type": "markdown",
   "metadata": {
    "deletable": false,
    "editable": false,
    "nbgrader": {
     "cell_type": "markdown",
     "checksum": "ff62ce9d296a1db67758cf613013863c",
     "grade": false,
     "grade_id": "cell-33c2d0518738c711",
     "locked": true,
     "schema_version": 3,
     "solution": false,
     "task": false
    }
   },
   "source": [
    "### Part 1 (*0 points*)\n",
    "\n",
    "First, you need to load the data from Problem 2.\n",
    "\n",
    "- Read in the csv files generated in Problem 2 to the variables `kumpula` and `rovaniemi`"
   ]
  },
  {
   "cell_type": "code",
   "execution_count": 5,
   "metadata": {
    "deletable": false,
    "nbgrader": {
     "cell_type": "code",
     "checksum": "1723c7d823f3a1f8433646f506eedd16",
     "grade": false,
     "grade_id": "read_data",
     "locked": false,
     "schema_version": 3,
     "solution": true
    }
   },
   "outputs": [
    {
     "name": "stdout",
     "output_type": "stream",
     "text": [
      "   Unnamed: 0   USAF  YR--MODAHRMN  TEMP  MAX  MIN  CELSIUS\n",
      "0        8770  29980  201705010000   2.0  NaN  NaN        2\n",
      "1        8771  29980  201705010100   2.0  NaN  NaN        2\n",
      "2        8772  29980  201705010200   2.0  NaN  NaN        2\n",
      "3        8773  29980  201705010300   2.0  NaN  NaN        2\n",
      "4        8774  29980  201705010400   2.0  NaN  NaN        3\n"
     ]
    }
   ],
   "source": [
    "import pandas as pd\n",
    "\n",
    "kumpula = pd.read_csv('data/Kumpula_temps_May_Aug_2017.csv', sep=',')\n",
    "rovaniemi = pd.read_csv('data/Rovaniemi_temps_May_Aug_2017.csv', sep=',')\n",
    "\n",
    "print(kumpula.head())"
   ]
  },
  {
   "cell_type": "markdown",
   "metadata": {},
   "source": [
    "### Part 2 (*1 point*)\n",
    "\n",
    "Next you can find some median temperature values for the period the data covers.\n",
    "\n",
    "- What was the median Celsius temperature during the observed period in:\n",
    "    - Helsinki Kumpula? (store the answer in a variable `kumpula_median`)\n",
    "    - Rovaniemi? (store the answer in a variable `rovaniemi_median`)"
   ]
  },
  {
   "cell_type": "code",
   "execution_count": 7,
   "metadata": {
    "deletable": false,
    "nbgrader": {
     "cell_type": "code",
     "checksum": "2c45192b5e5293cdbf30d4176b09bcf2",
     "grade": false,
     "grade_id": "median",
     "locked": false,
     "schema_version": 3,
     "solution": true
    }
   },
   "outputs": [],
   "source": [
    "kumpula_median = kumpula['CELSIUS'].mean().round(2)\n",
    "rovaniemi_median = rovaniemi['CELSIUS'].mean().round(2)\n",
    "\n"
   ]
  },
  {
   "cell_type": "code",
   "execution_count": 9,
   "metadata": {
    "deletable": false,
    "editable": false,
    "nbgrader": {
     "cell_type": "code",
     "checksum": "f09698e35a34838c2b97221c7dba9226",
     "grade": true,
     "grade_id": "problem_3_median_test",
     "locked": true,
     "points": 1,
     "schema_version": 3,
     "solution": false
    }
   },
   "outputs": [
    {
     "name": "stdout",
     "output_type": "stream",
     "text": [
      "Kumpula median:  13.48\n",
      "Rovaniemi median:  9.98\n"
     ]
    }
   ],
   "source": [
    "# Prints the median temperatures\n",
    "print(\"Kumpula median: \", kumpula_median)\n",
    "print(\"Rovaniemi median: \", rovaniemi_median)\n"
   ]
  },
  {
   "cell_type": "markdown",
   "metadata": {
    "deletable": false,
    "editable": false,
    "nbgrader": {
     "cell_type": "markdown",
     "checksum": "72c55344ad098bb58a9f6c3647d37677",
     "grade": false,
     "grade_id": "cell-6eda08b036b421d9",
     "locked": true,
     "schema_version": 3,
     "solution": false,
     "task": false
    }
   },
   "source": [
    "### Part 3 (*2 points*)\n",
    "\n",
    "The median temperatures above consider data from the entire summer (May-Aug), hence the differences might not be so clear. Let's now find out the mean temperatures from May and June 2017 in Kumpula and Rovaniemi.\n",
    "\n",
    "- From the `kumpula` and `rovaniemi` DataFrames, select the rows where values of the `YR--MODAHRMN` column are from May 2017\n",
    "    - Assign these selected rows into the variables `kumpula_may` and `rovaniemi_may` (you can check the [hints](https://geo-python.github.io/site/lessons/L5/exercise-5.html) for help!)\n",
    "- Repeat the procedure for the month of June and assign those values into variables to `kumpula_june` and `rovaniemi_june`"
   ]
  },
  {
   "cell_type": "code",
   "execution_count": 49,
   "metadata": {
    "deletable": false,
    "nbgrader": {
     "cell_type": "code",
     "checksum": "bb09c4bf4e07e674182a5cbf62c9d5be",
     "grade": false,
     "grade_id": "may",
     "locked": false,
     "schema_version": 3,
     "solution": true
    },
    "scrolled": true
   },
   "outputs": [
    {
     "name": "stdout",
     "output_type": "stream",
     "text": [
      "741     201706010000\n",
      "742     201706010100\n",
      "743     201706010200\n",
      "744     201706010300\n",
      "745     201706010400\n",
      "            ...     \n",
      "1450    201706301900\n",
      "1451    201706302000\n",
      "1452    201706302100\n",
      "1453    201706302200\n",
      "1454    201706302300\n",
      "Name: YR--MODAHRMN, Length: 714, dtype: int64\n"
     ]
    }
   ],
   "source": [
    "# Select the subset of the Kumpula and Rovaniemi data for the 5th and 6th month\n",
    "kumpula_may = kumpula.loc[kumpula['YR--MODAHRMN'] < 201706010000]\n",
    "rovaniemi_may = rovaniemi.loc[rovaniemi['YR--MODAHRMN'] < 201706010000]\n",
    "\n",
    "kumpula_june = kumpula.loc[(kumpula['YR--MODAHRMN'] > 201705312399) & (kumpula['YR--MODAHRMN'] <= 201706302300)]\n",
    "rovaniemi_june = rovaniemi.loc[(rovaniemi['YR--MODAHRMN'] > 201705312399) & (rovaniemi['YR--MODAHRMN'] <= 201706302300)]\n",
    "\n",
    "print(kumpula_june['YR--MODAHRMN'])"
   ]
  },
  {
   "cell_type": "code",
   "execution_count": 35,
   "metadata": {
    "deletable": false,
    "editable": false,
    "nbgrader": {
     "cell_type": "code",
     "checksum": "b7f400a629298411f3a377acc000739d",
     "grade": true,
     "grade_id": "problem_2_May_and_June_test1",
     "locked": true,
     "points": 0.5,
     "schema_version": 3,
     "solution": false
    }
   },
   "outputs": [
    {
     "name": "stdout",
     "output_type": "stream",
     "text": [
      "Kumpula temperatures in May\n",
      "    Unnamed: 0   USAF  YR--MODAHRMN  TEMP  MAX  MIN  CELSIUS\n",
      "0        8770  29980  201705010000   2.0  NaN  NaN        2\n",
      "1        8771  29980  201705010100   2.0  NaN  NaN        2\n",
      "2        8772  29980  201705010200   2.0  NaN  NaN        2\n",
      "3        8773  29980  201705010300   2.0  NaN  NaN        2\n",
      "4        8774  29980  201705010400   2.0  NaN  NaN        3\n",
      "Rovaniemi temperatures in June\n",
      ":        Unnamed: 0   USAF  YR--MODAHRMN  TEMP  MAX  MIN  CELSIUS\n",
      "2220        2222  28450  201706010000   2.0  NaN  NaN        0\n",
      "2221        2223  28450  201706010020   2.0  NaN  NaN       -1\n",
      "2222        2224  28450  201706010050   2.0  NaN  NaN       -1\n",
      "2223        2225  28450  201706010100   2.0  NaN  NaN        0\n",
      "2224        2226  28450  201706010120   2.0  NaN  NaN       -1\n"
     ]
    }
   ],
   "source": [
    "# Prints some of the selected temperature data\n",
    "print(\"Kumpula temperatures in May\\n\", kumpula_may.head())\n",
    "print(\"Rovaniemi temperatures in June\\n: \", rovaniemi_june.head())\n"
   ]
  },
  {
   "cell_type": "code",
   "execution_count": 43,
   "metadata": {
    "deletable": false,
    "editable": false,
    "nbgrader": {
     "cell_type": "code",
     "checksum": "24b61f90191790d229482270bca32edf",
     "grade": true,
     "grade_id": "problem_3_May_and_June_test2",
     "locked": true,
     "points": 0.5,
     "schema_version": 3,
     "solution": false
    }
   },
   "outputs": [
    {
     "name": "stdout",
     "output_type": "stream",
     "text": [
      "(714, 7)\n"
     ]
    }
   ],
   "source": [
    "# Check that the shape of kumpula_june is correct\n",
    "print(kumpula_june.shape)"
   ]
  },
  {
   "cell_type": "code",
   "execution_count": 51,
   "metadata": {
    "deletable": false,
    "editable": false,
    "nbgrader": {
     "cell_type": "code",
     "checksum": "ba5ff9ea42a21bf18dfca50f1357bbd8",
     "grade": true,
     "grade_id": "problem_3_May_and_June_test3",
     "locked": true,
     "points": 0.5,
     "schema_version": 3,
     "solution": false
    }
   },
   "outputs": [
    {
     "name": "stdout",
     "output_type": "stream",
     "text": [
      "(2220, 7)\n"
     ]
    }
   ],
   "source": [
    "# Check that the shape of rovaniemi_may is correct\n",
    "print(rovaniemi_may.shape)"
   ]
  },
  {
   "cell_type": "code",
   "execution_count": 47,
   "metadata": {
    "deletable": false,
    "editable": false,
    "nbgrader": {
     "cell_type": "code",
     "checksum": "a460e603257d94c07558e23a54d64c1d",
     "grade": true,
     "grade_id": "problem_3_May_and_June_test4",
     "locked": true,
     "points": 0.5,
     "schema_version": 3,
     "solution": false
    }
   },
   "outputs": [
    {
     "name": "stdout",
     "output_type": "stream",
     "text": [
      "(2125, 7)\n"
     ]
    }
   ],
   "source": [
    "# Check that the shape of rovaniemi_june is correct\n",
    "print(rovaniemi_june.shape)"
   ]
  },
  {
   "cell_type": "markdown",
   "metadata": {
    "deletable": false,
    "editable": false,
    "nbgrader": {
     "cell_type": "markdown",
     "checksum": "1cf68fffc5eafa68e70f9369a26c21a5",
     "grade": false,
     "grade_id": "cell-5d735e872f16ccd5",
     "locked": true,
     "schema_version": 3,
     "solution": false,
     "task": false
    }
   },
   "source": [
    "### Part 4 (*1 point*)\n",
    "\n",
    "Now you can make your temperature data from both locations and months easier to compare by printing out a few useful values.\n",
    "\n",
    "- Use the `print()` function to show the mean, min and max Celsius temperatures for both places in May and June using the new subset dataframes (`kumpula_may`, `rovaniemi_may`, `kumpula_june`, and `rovaniemi_june`)."
   ]
  },
  {
   "cell_type": "code",
   "execution_count": 65,
   "metadata": {
    "deletable": false,
    "nbgrader": {
     "cell_type": "code",
     "checksum": "fca67f9e5db701779c77dcb609a85ddf",
     "grade": true,
     "grade_id": "May_and_June_stats",
     "locked": false,
     "points": 1,
     "schema_version": 3,
     "solution": true
    }
   },
   "outputs": [
    {
     "name": "stdout",
     "output_type": "stream",
     "text": [
      "Mean temperature in may 9.310391363022942\n",
      "Max temperature in may 22\n",
      "Min temperature in may -2\n",
      "Mean temperature in Rovaniemi june Unnamed: 0      3.284000e+03\n",
      "USAF            2.845000e+04\n",
      "YR--MODAHRMN    2.017062e+11\n",
      "TEMP            2.000000e+00\n",
      "MAX             2.000000e+00\n",
      "MIN             2.000000e+00\n",
      "CELSIUS         1.060894e+01\n",
      "dtype: float64\n"
     ]
    }
   ],
   "source": [
    "print(\"Mean temperature in may\", kumpula_may['CELSIUS'].mean())\n",
    "print(\"Max temperature in may\", kumpula_may['CELSIUS'].max())\n",
    "print(\"Min temperature in may\", kumpula_may['CELSIUS'].min())\n",
    "#print(\"Mean temperature in may\", kumpula_may['CELSIUS'].describe())\n",
    "\n",
    "print(\"Mean temperature in Rovaniemi june\", rovaniemi_june.mean())"
   ]
  },
  {
   "cell_type": "code",
   "execution_count": 61,
   "metadata": {},
   "outputs": [
    {
     "data": {
      "text/html": [
       "<div>\n",
       "<style scoped>\n",
       "    .dataframe tbody tr th:only-of-type {\n",
       "        vertical-align: middle;\n",
       "    }\n",
       "\n",
       "    .dataframe tbody tr th {\n",
       "        vertical-align: top;\n",
       "    }\n",
       "\n",
       "    .dataframe thead th {\n",
       "        text-align: right;\n",
       "    }\n",
       "</style>\n",
       "<table border=\"1\" class=\"dataframe\">\n",
       "  <thead>\n",
       "    <tr style=\"text-align: right;\">\n",
       "      <th></th>\n",
       "      <th>Unnamed: 0</th>\n",
       "      <th>USAF</th>\n",
       "      <th>YR--MODAHRMN</th>\n",
       "      <th>TEMP</th>\n",
       "      <th>MAX</th>\n",
       "      <th>MIN</th>\n",
       "      <th>CELSIUS</th>\n",
       "    </tr>\n",
       "  </thead>\n",
       "  <tbody>\n",
       "    <tr>\n",
       "      <th>0</th>\n",
       "      <td>8770</td>\n",
       "      <td>29980</td>\n",
       "      <td>201705010000</td>\n",
       "      <td>2.0</td>\n",
       "      <td>NaN</td>\n",
       "      <td>NaN</td>\n",
       "      <td>2</td>\n",
       "    </tr>\n",
       "    <tr>\n",
       "      <th>1</th>\n",
       "      <td>8771</td>\n",
       "      <td>29980</td>\n",
       "      <td>201705010100</td>\n",
       "      <td>2.0</td>\n",
       "      <td>NaN</td>\n",
       "      <td>NaN</td>\n",
       "      <td>2</td>\n",
       "    </tr>\n",
       "    <tr>\n",
       "      <th>2</th>\n",
       "      <td>8772</td>\n",
       "      <td>29980</td>\n",
       "      <td>201705010200</td>\n",
       "      <td>2.0</td>\n",
       "      <td>NaN</td>\n",
       "      <td>NaN</td>\n",
       "      <td>2</td>\n",
       "    </tr>\n",
       "    <tr>\n",
       "      <th>3</th>\n",
       "      <td>8773</td>\n",
       "      <td>29980</td>\n",
       "      <td>201705010300</td>\n",
       "      <td>2.0</td>\n",
       "      <td>NaN</td>\n",
       "      <td>NaN</td>\n",
       "      <td>2</td>\n",
       "    </tr>\n",
       "    <tr>\n",
       "      <th>4</th>\n",
       "      <td>8774</td>\n",
       "      <td>29980</td>\n",
       "      <td>201705010400</td>\n",
       "      <td>2.0</td>\n",
       "      <td>NaN</td>\n",
       "      <td>NaN</td>\n",
       "      <td>3</td>\n",
       "    </tr>\n",
       "  </tbody>\n",
       "</table>\n",
       "</div>"
      ],
      "text/plain": [
       "   Unnamed: 0   USAF  YR--MODAHRMN  TEMP  MAX  MIN  CELSIUS\n",
       "0        8770  29980  201705010000   2.0  NaN  NaN        2\n",
       "1        8771  29980  201705010100   2.0  NaN  NaN        2\n",
       "2        8772  29980  201705010200   2.0  NaN  NaN        2\n",
       "3        8773  29980  201705010300   2.0  NaN  NaN        2\n",
       "4        8774  29980  201705010400   2.0  NaN  NaN        3"
      ]
     },
     "execution_count": 61,
     "metadata": {},
     "output_type": "execute_result"
    }
   ],
   "source": []
  },
  {
   "cell_type": "markdown",
   "metadata": {
    "deletable": false,
    "editable": false,
    "nbgrader": {
     "cell_type": "markdown",
     "checksum": "42427a2907c6dad46640571ae4bafa8a",
     "grade": false,
     "grade_id": "comments",
     "locked": true,
     "schema_version": 3,
     "solution": false
    }
   },
   "source": [
    "### Problem 3 summary\n",
    "\n",
    "In the [Exercise 5 summary notebook](Exercise-5-summary.ipynb) you can find a few additional points to consider and two final questions for Problem 3. Please answer those question in [that notebook](Exercise-5-summary.ipynb)."
   ]
  },
  {
   "cell_type": "markdown",
   "metadata": {
    "collapsed": true,
    "deletable": false,
    "editable": false,
    "jupyter": {
     "outputs_hidden": true
    },
    "nbgrader": {
     "cell_type": "markdown",
     "checksum": "0e5f52b74f4ffaea57ca77ace2732647",
     "grade": false,
     "grade_id": "text",
     "locked": true,
     "schema_version": 3,
     "solution": false
    }
   },
   "source": [
    "### On to Problem 4 (*optional*)\n",
    "\n",
    "Now you can continue to the *optional* [Problem 4: Data analysis](Exercise-5-problem-4.ipynb)"
   ]
  }
 ],
 "metadata": {
  "anaconda-cloud": {},
  "kernelspec": {
   "display_name": "Python 3 (ipykernel)",
   "language": "python",
   "name": "python3"
  },
  "language_info": {
   "codemirror_mode": {
    "name": "ipython",
    "version": 3
   },
   "file_extension": ".py",
   "mimetype": "text/x-python",
   "name": "python",
   "nbconvert_exporter": "python",
   "pygments_lexer": "ipython3",
   "version": "3.12.4"
  }
 },
 "nbformat": 4,
 "nbformat_minor": 4
}
